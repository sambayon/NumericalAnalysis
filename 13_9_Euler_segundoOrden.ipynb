{
  "nbformat": 4,
  "nbformat_minor": 0,
  "metadata": {
    "colab": {
      "provenance": [],
      "collapsed_sections": [],
      "authorship_tag": "ABX9TyO0cxQI1u7FaEpHR2+mPB6q"
    },
    "kernelspec": {
      "name": "python3",
      "display_name": "Python 3"
    },
    "language_info": {
      "name": "python"
    }
  },
  "cells": [
    {
      "cell_type": "markdown",
      "source": [
        "Codigo de Euler de segundo orden, dado por el profesor."
      ],
      "metadata": {
        "id": "BTYGf9ZFGOaC"
      }
    },
    {
      "cell_type": "code",
      "execution_count": null,
      "metadata": {
        "id": "yPFqeLo2Fa7H"
      },
      "outputs": [],
      "source": [
        "\n",
        "import numpy as np\n",
        "\n",
        "def euler_ec_orden_2(t0,tf,x0,v0,f,N):\n",
        "    '''\n",
        "    Resuelve\n",
        "        x''(t) = f(t,x,x')\n",
        "          x(0) = x0\n",
        "         x'(0) = v0\n",
        "    en [t0,tf] usando Euler con N pasos. #\n",
        "\n",
        "    Devuelve tupla (h, tt, xx, vv) con\n",
        "         h: paso\n",
        "        tt: array con grilla de tiempos\n",
        "        xx: array con aproximación de x sobre la grilla    \n",
        "        vv: array con aproximación de x' sobre la grilla\n",
        "    '''\n",
        "\n",
        "    h = (tf-t0)/N\n",
        "    tt = np.linspace(t0,tf,N+1)\n",
        "    xx = np.zeros(N+1)\n",
        "    vv = np.zeros(N+1)\n",
        "\n",
        "    xx[0], vv[0] = x0, v0\n",
        "    \n",
        "    for i in range(N):\n",
        "        vv[i+1] = vv[i] + h*f(tt[i],xx[i],vv[i])\n",
        "        xx[i+1] = xx[i] + h*vv[i]\n",
        "\n",
        "    return h,tt,xx,vv\n"
      ]
    },
    {
      "cell_type": "markdown",
      "source": [
        "Ejemplo"
      ],
      "metadata": {
        "id": "olPPhxuvGYqv"
      }
    },
    {
      "cell_type": "markdown",
      "source": [
        "Nota: *Remember simba* cuando no estés en colab\n",
        "\n",
        "```\n",
        "# from euler_segundo_orden import euler_ec_orden_2\n",
        "```\n",
        "\n"
      ],
      "metadata": {
        "id": "bmBnKzQnHL8D"
      }
    },
    {
      "cell_type": "code",
      "source": [
        "\n",
        "import numpy as np\n",
        "\n",
        "def euler_ec_orden_2(t0,tf,x0,v0,f,N):\n",
        "    h = (tf-t0)/N\n",
        "    tt = np.linspace(t0,tf,N+1)\n",
        "    xx = np.zeros(N+1)\n",
        "    vv = np.zeros(N+1)\n",
        "\n",
        "    xx[0], vv[0] = x0, v0\n",
        "    \n",
        "    for i in range(N):\n",
        "        vv[i+1] = vv[i] + h*f(tt[i],xx[i],vv[i])\n",
        "        xx[i+1] = xx[i] + h*vv[i]\n",
        "\n",
        "    return h,tt,xx,vv\n",
        "\n",
        "import matplotlib.pyplot as plt\n",
        "\n",
        "def metodo_disparo(a, b, ya, yb, f, N):\n",
        "  \"\"\"Resuelve\n",
        "        y''(t) = f(t,y,y')\n",
        "          y(a) = ya\n",
        "          y(b) = yb\n",
        "    en [a.b] usando metodo de disparo con Euler con N pasos. #\n",
        "  \"\"\"\n",
        "  \n",
        "  #Hacemos Euler en [a.b]\n",
        "  #con dos velocidades iniciales distintas\n",
        "\n",
        "  #Aproxima solución y0(t) con yo'(a)= 0\n",
        "  h,tt,yy0,_ = euler_ec_orden_2(a, b, ya, 0, f, N) \n",
        "                                     \n",
        "  #Aproxima solución y1(t) con y1'(a)= 1\n",
        "  _,_,yy1,_ = euler_ec_orden_2(a, b, ya, 1, f, N)\n",
        "\n",
        "  #plt.plot(tt, yy0, tt, yy1)\n",
        "\n",
        "  #Misma escala en ambos jes\n",
        "  #plt.gca().set_aspect('equal')\n",
        "  #plt.show()\n",
        "  #ll es el lambda\n",
        "  ll = (yb - yy0[-1]) / (yy1[-1] - yy0[-1])\n",
        "\n",
        "  #La solución es la combinación lineal\n",
        "  #y = (1 - ll)*y0 + ll*y1\n",
        "  yy = (1 - ll)*yy0 + ll*yy1\n",
        "\n",
        "  return h, tt, yy\n",
        "\n",
        "\n",
        "#Datos para hallar y(t) = t² en [0,1]\n",
        "a, b = 0, 1\n",
        "ya, yb = 0, 1\n",
        "\n",
        "#Armamos f para tener ecuación y''= 2\n",
        "def f(t,y,v):\n",
        "  return 2\n",
        "\n",
        "h, tt, yy = metodo_disparo(a, b, ya, yb, f, 8)\n",
        "\n",
        "plt.plot(tt, yy)\n",
        "plt.gca().set_aspect('equal')\n",
        "plt.show()\n",
        "\n"
      ],
      "metadata": {
        "colab": {
          "base_uri": "https://localhost:8080/",
          "height": 265
        },
        "id": "ljXjg527Gndr",
        "outputId": "1e52af8d-3891-46a4-876a-891a47b66bff"
      },
      "execution_count": null,
      "outputs": [
        {
          "output_type": "display_data",
          "data": {
            "text/plain": [
              "<Figure size 432x288 with 1 Axes>"
            ],
            "image/png": "[encoded data removed]"
          },
          "metadata": {
            "needs_background": "light"
          }
        }
      ]
    },
    {
      "cell_type": "code",
      "source": [
        "import numpy as np\n",
        "import matplotlib.pyplot as plt\n",
        "import random \n",
        "\n",
        "N = 20\n",
        "\n",
        "xx = np.linspace(0, 3, N)\n",
        "yy = 3*xx + 2\n",
        "yy = yy + (2*np.random.random(N) - 1)\n",
        "\n",
        "#polyfit <3\n",
        "\n",
        "#plotea nube de puntos\n",
        "plt.scatter(xx, yy, color='purple')\n",
        "\n",
        "#busco recta y = ax + b que aproxime la tendencia de los xx, yy\n",
        "m, b = np.polyfit(xx, yy, 1)\n",
        "\n",
        "#plotea recta y = mx + b\n",
        "plt.plot(xx, m*xx + b, color='pink')\n",
        "\n",
        "#plt.gca().set_aspect('equal')\n",
        "plt.show()\n"
      ],
      "metadata": {
        "colab": {
          "base_uri": "https://localhost:8080/",
          "height": 265
        },
        "id": "kw2jnQt8Qaz6",
        "outputId": "2045e314-639d-4eb8-a41e-5b2a970b2892"
      },
      "execution_count": null,
      "outputs": [
        {
          "output_type": "display_data",
          "data": {
            "text/plain": [
              "<Figure size 432x288 with 1 Axes>"
            ],
            "image/png": "[encoded data removed]"
          },
          "metadata": {
            "needs_background": "light"
          }
        }
      ]
    }
  ]
}